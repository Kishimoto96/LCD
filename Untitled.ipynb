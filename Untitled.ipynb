{
 "cells": [
  {
   "cell_type": "code",
   "execution_count": 54,
   "metadata": {},
   "outputs": [],
   "source": [
    "from itertools import combinations, permutations\n",
    "import numpy as np"
   ]
  },
  {
   "cell_type": "code",
   "execution_count": 55,
   "metadata": {},
   "outputs": [],
   "source": [
    "adj_i = [1,3,5,7,9]\n",
    "priority = [3,5,7]\n",
    "l=2"
   ]
  },
  {
   "cell_type": "code",
   "execution_count": 51,
   "metadata": {},
   "outputs": [
    {
     "data": {
      "text/plain": [
       "[(3, 7),\n",
       " (5, 7),\n",
       " (3, 5),\n",
       " (5, 9),\n",
       " (1, 3),\n",
       " (1, 5),\n",
       " (3, 9),\n",
       " (1, 9),\n",
       " (1, 7),\n",
       " (7, 9)]"
      ]
     },
     "execution_count": 51,
     "metadata": {},
     "output_type": "execute_result"
    }
   ],
   "source": [
    "priority_nodes = sorted(set(priority) & set(adj_i))  # from i's neighbors, choose those priority, \n",
    "                                                                                 # Must sort! otherwise in each subsets elements are not ordered,\n",
    "                                                                                  # thus the following set minus will not work, (5,1,6) != (1,5,6)\n",
    "tmp1 = set(combinations(priority_nodes, l))\n",
    "tmp2 = set(combinations(adj_i, l)) - tmp1\n",
    "# print('priority nodes is', priority_nodes, 'tmp1 is ', tmp1, ', tmp2 is ', tmp2)\n",
    "node_priority = list(tmp1) + list(tmp2)  # convert to list to ensure order\n",
    "node_priority\n",
    "\n"
   ]
  },
  {
   "cell_type": "code",
   "execution_count": 58,
   "metadata": {},
   "outputs": [
    {
     "name": "stdout",
     "output_type": "stream",
     "text": [
      "(1, 3)\n",
      "(1, 5)\n",
      "(1, 7)\n",
      "(1, 9)\n",
      "(3, 5)\n",
      "(3, 7)\n",
      "(3, 9)\n",
      "(5, 7)\n",
      "(5, 9)\n",
      "(7, 9)\n",
      "[1, 1, 1, 0, 2, 2, 1, 2, 1, 1]\n",
      "[7 5 4 9 8 6 2 1 0 3]\n"
     ]
    }
   ],
   "source": [
    "pr = []\n",
    "for i, nodes in enumerate(combinations(adj_i, l)):\n",
    "    print(nodes)\n",
    "    pr.append(len(set(priority) & set(nodes)))\n",
    "print(pr)\n",
    "\n",
    "idx = np.argsort(pr, kind='stable')[::-1]\n",
    "print(idx)"
   ]
  },
  {
   "cell_type": "code",
   "execution_count": 33,
   "metadata": {},
   "outputs": [
    {
     "data": {
      "text/plain": [
       "{3, 5, 7}"
      ]
     },
     "execution_count": 33,
     "metadata": {},
     "output_type": "execute_result"
    }
   ],
   "source": [
    "set(priority)"
   ]
  },
  {
   "cell_type": "code",
   "execution_count": 34,
   "metadata": {},
   "outputs": [
    {
     "data": {
      "text/plain": [
       "[3, 5, 7]"
      ]
     },
     "execution_count": 34,
     "metadata": {},
     "output_type": "execute_result"
    }
   ],
   "source": [
    "priority"
   ]
  },
  {
   "cell_type": "code",
   "execution_count": 39,
   "metadata": {},
   "outputs": [
    {
     "data": {
      "text/plain": [
       "[]"
      ]
     },
     "execution_count": 39,
     "metadata": {},
     "output_type": "execute_result"
    }
   ],
   "source": [
    "list(node_priority)"
   ]
  },
  {
   "cell_type": "code",
   "execution_count": 60,
   "metadata": {},
   "outputs": [
    {
     "ename": "TypeError",
     "evalue": "'itertools.combinations' object is not subscriptable",
     "output_type": "error",
     "traceback": [
      "\u001b[0;31m---------------------------------------------------------------------------\u001b[0m",
      "\u001b[0;31mTypeError\u001b[0m                                 Traceback (most recent call last)",
      "\u001b[0;32m<ipython-input-60-35a902ce5ee6>\u001b[0m in \u001b[0;36m<module>\u001b[0;34m\u001b[0m\n\u001b[0;32m----> 1\u001b[0;31m \u001b[0mcombinations\u001b[0m\u001b[0;34m(\u001b[0m\u001b[0madj_i\u001b[0m\u001b[0;34m,\u001b[0m \u001b[0ml\u001b[0m\u001b[0;34m)\u001b[0m\u001b[0;34m[\u001b[0m\u001b[0;34m:\u001b[0m\u001b[0;34m:\u001b[0m\u001b[0;34m-\u001b[0m\u001b[0;36m1\u001b[0m\u001b[0;34m]\u001b[0m\u001b[0;34m\u001b[0m\u001b[0;34m\u001b[0m\u001b[0m\n\u001b[0m",
      "\u001b[0;31mTypeError\u001b[0m: 'itertools.combinations' object is not subscriptable"
     ]
    }
   ],
   "source": [
    "combinations(adj_i, l)[::-1]"
   ]
  },
  {
   "cell_type": "code",
   "execution_count": 67,
   "metadata": {},
   "outputs": [
    {
     "data": {
      "text/plain": [
       "1.0"
      ]
     },
     "execution_count": 67,
     "metadata": {},
     "output_type": "execute_result"
    }
   ],
   "source": [
    "import scipy\n",
    "scipy.special.comb(4,0)"
   ]
  },
  {
   "cell_type": "code",
   "execution_count": 69,
   "metadata": {},
   "outputs": [
    {
     "data": {
      "text/plain": [
       "array([], shape=(1, 0), dtype=float64)"
      ]
     },
     "execution_count": 69,
     "metadata": {},
     "output_type": "execute_result"
    }
   ],
   "source": [
    "np.array(list(combinations([1,2,3], 0)))"
   ]
  },
  {
   "cell_type": "code",
   "execution_count": null,
   "metadata": {},
   "outputs": [],
   "source": []
  }
 ],
 "metadata": {
  "kernelspec": {
   "display_name": "Python 3",
   "language": "python",
   "name": "python3"
  },
  "language_info": {
   "codemirror_mode": {
    "name": "ipython",
    "version": 3
   },
   "file_extension": ".py",
   "mimetype": "text/x-python",
   "name": "python",
   "nbconvert_exporter": "python",
   "pygments_lexer": "ipython3",
   "version": "3.7.5"
  }
 },
 "nbformat": 4,
 "nbformat_minor": 2
}
